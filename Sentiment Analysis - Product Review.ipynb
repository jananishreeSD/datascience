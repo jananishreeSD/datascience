{
  "nbformat": 4,
  "nbformat_minor": 0,
  "metadata": {
    "colab": {
      "provenance": []
    },
    "kernelspec": {
      "name": "python3",
      "display_name": "Python 3"
    },
    "language_info": {
      "name": "python"
    }
  },
  "cells": [
    {
      "cell_type": "code",
      "execution_count": 1,
      "metadata": {
        "colab": {
          "base_uri": "https://localhost:8080/"
        },
        "id": "2VISjOEeUJLl",
        "outputId": "4198584a-20e2-42a3-e9a3-67e24c769c09"
      },
      "outputs": [
        {
          "output_type": "stream",
          "name": "stdout",
          "text": [
            "Collecting scikit-plot\n",
            "  Downloading scikit_plot-0.3.7-py3-none-any.whl (33 kB)\n",
            "Requirement already satisfied: matplotlib>=1.4.0 in /usr/local/lib/python3.10/dist-packages (from scikit-plot) (3.7.1)\n",
            "Requirement already satisfied: scikit-learn>=0.18 in /usr/local/lib/python3.10/dist-packages (from scikit-plot) (1.2.2)\n",
            "Requirement already satisfied: scipy>=0.9 in /usr/local/lib/python3.10/dist-packages (from scikit-plot) (1.11.4)\n",
            "Requirement already satisfied: joblib>=0.10 in /usr/local/lib/python3.10/dist-packages (from scikit-plot) (1.3.2)\n",
            "Requirement already satisfied: contourpy>=1.0.1 in /usr/local/lib/python3.10/dist-packages (from matplotlib>=1.4.0->scikit-plot) (1.2.0)\n",
            "Requirement already satisfied: cycler>=0.10 in /usr/local/lib/python3.10/dist-packages (from matplotlib>=1.4.0->scikit-plot) (0.12.1)\n",
            "Requirement already satisfied: fonttools>=4.22.0 in /usr/local/lib/python3.10/dist-packages (from matplotlib>=1.4.0->scikit-plot) (4.50.0)\n",
            "Requirement already satisfied: kiwisolver>=1.0.1 in /usr/local/lib/python3.10/dist-packages (from matplotlib>=1.4.0->scikit-plot) (1.4.5)\n",
            "Requirement already satisfied: numpy>=1.20 in /usr/local/lib/python3.10/dist-packages (from matplotlib>=1.4.0->scikit-plot) (1.25.2)\n",
            "Requirement already satisfied: packaging>=20.0 in /usr/local/lib/python3.10/dist-packages (from matplotlib>=1.4.0->scikit-plot) (24.0)\n",
            "Requirement already satisfied: pillow>=6.2.0 in /usr/local/lib/python3.10/dist-packages (from matplotlib>=1.4.0->scikit-plot) (9.4.0)\n",
            "Requirement already satisfied: pyparsing>=2.3.1 in /usr/local/lib/python3.10/dist-packages (from matplotlib>=1.4.0->scikit-plot) (3.1.2)\n",
            "Requirement already satisfied: python-dateutil>=2.7 in /usr/local/lib/python3.10/dist-packages (from matplotlib>=1.4.0->scikit-plot) (2.8.2)\n",
            "Requirement already satisfied: threadpoolctl>=2.0.0 in /usr/local/lib/python3.10/dist-packages (from scikit-learn>=0.18->scikit-plot) (3.3.0)\n",
            "Requirement already satisfied: six>=1.5 in /usr/local/lib/python3.10/dist-packages (from python-dateutil>=2.7->matplotlib>=1.4.0->scikit-plot) (1.16.0)\n",
            "Installing collected packages: scikit-plot\n",
            "Successfully installed scikit-plot-0.3.7\n"
          ]
        }
      ],
      "source": [
        "!pip install scikit-plot"
      ]
    },
    {
      "cell_type": "code",
      "source": [
        "from sklearn.svm import LinearSVC\n",
        "from wordcloud import WordCloud, STOPWORDS\n",
        "from sklearn.metrics import accuracy_score,classification_report\n",
        "from sklearn.linear_model import SGDClassifier\n",
        "from scipy.sparse import hstack\n",
        "from sklearn.feature_extraction.text import TfidfVectorizer\n",
        "from sklearn.model_selection import train_test_split\n",
        "import scikitplot as skplt\n",
        "import string\n",
        "import pandas as pd\n",
        "import numpy as np\n",
        "import matplotlib.pyplot as plt\n",
        "import seaborn as sns"
      ],
      "metadata": {
        "id": "GGW7K7b8VkQ3"
      },
      "execution_count": 2,
      "outputs": []
    },
    {
      "cell_type": "code",
      "source": [
        "df = pd.read_csv('/content/245_1.csv', on_bad_lines='skip')"
      ],
      "metadata": {
        "colab": {
          "base_uri": "https://localhost:8080/"
        },
        "id": "8RW_Vj0QVttF",
        "outputId": "08ec8738-0bd0-4118-af14-d6338b5a5645"
      },
      "execution_count": 14,
      "outputs": [
        {
          "output_type": "stream",
          "name": "stdout",
          "text": [
            "ParserError: Error tokenizing data. C error: EOF inside string starting at row 40791\n"
          ]
        }
      ]
    },
    {
      "cell_type": "code",
      "source": [
        "df.info()"
      ],
      "metadata": {
        "colab": {
          "base_uri": "https://localhost:8080/"
        },
        "id": "9WdH7qhwW6aC",
        "outputId": "f80b109f-8550-4eb9-b67b-272cd35132a5"
      },
      "execution_count": 9,
      "outputs": [
        {
          "output_type": "stream",
          "name": "stdout",
          "text": [
            "<class 'pandas.core.frame.DataFrame'>\n",
            "RangeIndex: 31280 entries, 0 to 31279\n",
            "Data columns (total 25 columns):\n",
            " #   Column                Non-Null Count  Dtype  \n",
            "---  ------                --------------  -----  \n",
            " 0   id                    31280 non-null  object \n",
            " 1   brand                 31280 non-null  object \n",
            " 2   categories            31280 non-null  object \n",
            " 3   dateAdded             31280 non-null  object \n",
            " 4   dateUpdated           31280 non-null  object \n",
            " 5   ean                   20857 non-null  object \n",
            " 6   keys                  31279 non-null  object \n",
            " 7   manufacturer          31138 non-null  object \n",
            " 8   manufacturerNumber    31260 non-null  object \n",
            " 9   name                  31279 non-null  object \n",
            " 10  reviews.date          31233 non-null  object \n",
            " 11  reviews.dateAdded     31279 non-null  object \n",
            " 12  reviews.dateSeen      31279 non-null  object \n",
            " 13  reviews.didPurchase   16602 non-null  object \n",
            " 14  reviews.doRecommend   28620 non-null  object \n",
            " 15  reviews.id            16602 non-null  float64\n",
            " 16  reviews.numHelpful    11593 non-null  float64\n",
            " 17  reviews.rating        31279 non-null  float64\n",
            " 18  reviews.sourceURLs    31279 non-null  object \n",
            " 19  reviews.text          31258 non-null  object \n",
            " 20  reviews.title         31080 non-null  object \n",
            " 21  reviews.userCity      2212 non-null   object \n",
            " 22  reviews.userProvince  215 non-null    object \n",
            " 23  reviews.username      31217 non-null  object \n",
            " 24  upc                   31277 non-null  object \n",
            "dtypes: float64(3), object(22)\n",
            "memory usage: 6.0+ MB\n"
          ]
        }
      ]
    },
    {
      "cell_type": "code",
      "source": [
        "df.head()"
      ],
      "metadata": {
        "colab": {
          "base_uri": "https://localhost:8080/",
          "height": 620
        },
        "id": "qsleJJykW75u",
        "outputId": "ed9d6bc4-a7f6-45bb-db79-5cdb3be136f4"
      },
      "execution_count": 15,
      "outputs": [
        {
          "output_type": "execute_result",
          "data": {
            "text/plain": [
              "                     id            brand  \\\n",
              "0  AV13O1A8GV-KLJ3akUyj  Universal Music   \n",
              "1  AV14LG0R-jtxr-f38QfS         Lundberg   \n",
              "2  AV14LG0R-jtxr-f38QfS         Lundberg   \n",
              "3  AV16khLE-jtxr-f38VFn              K-Y   \n",
              "4  AV16khLE-jtxr-f38VFn              K-Y   \n",
              "\n",
              "                                          categories             dateAdded  \\\n",
              "0  Movies, Music & Books,Music,R&b,Movies & TV,Mo...  2017-07-25T00:52:42Z   \n",
              "1  Food,Packaged Foods,Snacks,Crackers,Snacks, Co...  2017-07-25T05:16:03Z   \n",
              "2  Food,Packaged Foods,Snacks,Crackers,Snacks, Co...  2017-07-25T05:16:03Z   \n",
              "3  Personal Care,Medicine Cabinet,Lubricant/Sperm...  2017-07-25T16:26:19Z   \n",
              "4  Personal Care,Medicine Cabinet,Lubricant/Sperm...  2017-07-25T16:26:19Z   \n",
              "\n",
              "            dateUpdated          ean  \\\n",
              "0  2018-02-05T08:36:58Z  6.02537E+11   \n",
              "1  2018-02-05T11:27:45Z  73416000391   \n",
              "2  2018-02-05T11:27:45Z  73416000391   \n",
              "3  2018-02-05T11:25:51Z  67981934427   \n",
              "4  2018-02-05T11:25:51Z  67981934427   \n",
              "\n",
              "                                                keys  \\\n",
              "0  602537205981,universalmusic/14331328,universal...   \n",
              "1  lundbergorganiccinnamontoastricecakes/b000fvzw...   \n",
              "2  lundbergorganiccinnamontoastricecakes/b000fvzw...   \n",
              "3  kylovesensualitypleasuregel/b00u2whx8s,0679819...   \n",
              "4  kylovesensualitypleasuregel/b00u2whx8s,0679819...   \n",
              "\n",
              "                         manufacturer manufacturerNumber  \\\n",
              "0  Universal Music Group / Cash Money           14331328   \n",
              "1                            Lundberg             574764   \n",
              "2                            Lundberg             574764   \n",
              "3                                 K-Y        67981934427   \n",
              "4                                 K-Y        67981934427   \n",
              "\n",
              "                                         name  ...   reviews.id  \\\n",
              "0   Pink Friday: Roman Reloaded Re-Up (w/dvd)  ...          NaN   \n",
              "1  Lundberg Organic Cinnamon Toast Rice Cakes  ...  100209113.0   \n",
              "2  Lundberg Organic Cinnamon Toast Rice Cakes  ...  100209113.0   \n",
              "3            K-Y Love Sensuality Pleasure Gel  ...  113026909.0   \n",
              "4            K-Y Love Sensuality Pleasure Gel  ...  171267657.0   \n",
              "\n",
              "  reviews.numHelpful reviews.rating  \\\n",
              "0                0.0            5.0   \n",
              "1                NaN            5.0   \n",
              "2                NaN            5.0   \n",
              "3                NaN            1.0   \n",
              "4                NaN            1.0   \n",
              "\n",
              "                                  reviews.sourceURLs  \\\n",
              "0  https://redsky.target.com/groot-domain-api/v1/...   \n",
              "1   https://www.walmart.com/reviews/product/29775278   \n",
              "2   https://www.walmart.com/reviews/product/29775278   \n",
              "3   https://www.walmart.com/reviews/product/43383370   \n",
              "4   https://www.walmart.com/reviews/product/43383370   \n",
              "\n",
              "                                        reviews.text  reviews.title  \\\n",
              "0  i love this album. it's very good. more to the...   Just Awesome   \n",
              "1  Good flavor. This review was collected as part...           Good   \n",
              "2                                       Good flavor.           Good   \n",
              "3  I read through the reviews on here before look...   Disappointed   \n",
              "4  My husband bought this gel for us. The gel cau...     Irritation   \n",
              "\n",
              "   reviews.userCity  reviews.userProvince reviews.username          upc  \n",
              "0       Los Angeles                   NaN           Joshua  6.02537E+11  \n",
              "1               NaN                   NaN        Dorothy W  73416000391  \n",
              "2               NaN                   NaN        Dorothy W  73416000391  \n",
              "3               NaN                   NaN          Rebecca  67981934427  \n",
              "4               NaN                   NaN        Walker557  67981934427  \n",
              "\n",
              "[5 rows x 25 columns]"
            ],
            "text/html": [
              "\n",
              "  <div id=\"df-782de104-ff69-455b-a740-3661d0d2ee03\" class=\"colab-df-container\">\n",
              "    <div>\n",
              "<style scoped>\n",
              "    .dataframe tbody tr th:only-of-type {\n",
              "        vertical-align: middle;\n",
              "    }\n",
              "\n",
              "    .dataframe tbody tr th {\n",
              "        vertical-align: top;\n",
              "    }\n",
              "\n",
              "    .dataframe thead th {\n",
              "        text-align: right;\n",
              "    }\n",
              "</style>\n",
              "<table border=\"1\" class=\"dataframe\">\n",
              "  <thead>\n",
              "    <tr style=\"text-align: right;\">\n",
              "      <th></th>\n",
              "      <th>id</th>\n",
              "      <th>brand</th>\n",
              "      <th>categories</th>\n",
              "      <th>dateAdded</th>\n",
              "      <th>dateUpdated</th>\n",
              "      <th>ean</th>\n",
              "      <th>keys</th>\n",
              "      <th>manufacturer</th>\n",
              "      <th>manufacturerNumber</th>\n",
              "      <th>name</th>\n",
              "      <th>...</th>\n",
              "      <th>reviews.id</th>\n",
              "      <th>reviews.numHelpful</th>\n",
              "      <th>reviews.rating</th>\n",
              "      <th>reviews.sourceURLs</th>\n",
              "      <th>reviews.text</th>\n",
              "      <th>reviews.title</th>\n",
              "      <th>reviews.userCity</th>\n",
              "      <th>reviews.userProvince</th>\n",
              "      <th>reviews.username</th>\n",
              "      <th>upc</th>\n",
              "    </tr>\n",
              "  </thead>\n",
              "  <tbody>\n",
              "    <tr>\n",
              "      <th>0</th>\n",
              "      <td>AV13O1A8GV-KLJ3akUyj</td>\n",
              "      <td>Universal Music</td>\n",
              "      <td>Movies, Music &amp; Books,Music,R&amp;b,Movies &amp; TV,Mo...</td>\n",
              "      <td>2017-07-25T00:52:42Z</td>\n",
              "      <td>2018-02-05T08:36:58Z</td>\n",
              "      <td>6.02537E+11</td>\n",
              "      <td>602537205981,universalmusic/14331328,universal...</td>\n",
              "      <td>Universal Music Group / Cash Money</td>\n",
              "      <td>14331328</td>\n",
              "      <td>Pink Friday: Roman Reloaded Re-Up (w/dvd)</td>\n",
              "      <td>...</td>\n",
              "      <td>NaN</td>\n",
              "      <td>0.0</td>\n",
              "      <td>5.0</td>\n",
              "      <td>https://redsky.target.com/groot-domain-api/v1/...</td>\n",
              "      <td>i love this album. it's very good. more to the...</td>\n",
              "      <td>Just Awesome</td>\n",
              "      <td>Los Angeles</td>\n",
              "      <td>NaN</td>\n",
              "      <td>Joshua</td>\n",
              "      <td>6.02537E+11</td>\n",
              "    </tr>\n",
              "    <tr>\n",
              "      <th>1</th>\n",
              "      <td>AV14LG0R-jtxr-f38QfS</td>\n",
              "      <td>Lundberg</td>\n",
              "      <td>Food,Packaged Foods,Snacks,Crackers,Snacks, Co...</td>\n",
              "      <td>2017-07-25T05:16:03Z</td>\n",
              "      <td>2018-02-05T11:27:45Z</td>\n",
              "      <td>73416000391</td>\n",
              "      <td>lundbergorganiccinnamontoastricecakes/b000fvzw...</td>\n",
              "      <td>Lundberg</td>\n",
              "      <td>574764</td>\n",
              "      <td>Lundberg Organic Cinnamon Toast Rice Cakes</td>\n",
              "      <td>...</td>\n",
              "      <td>100209113.0</td>\n",
              "      <td>NaN</td>\n",
              "      <td>5.0</td>\n",
              "      <td>https://www.walmart.com/reviews/product/29775278</td>\n",
              "      <td>Good flavor. This review was collected as part...</td>\n",
              "      <td>Good</td>\n",
              "      <td>NaN</td>\n",
              "      <td>NaN</td>\n",
              "      <td>Dorothy W</td>\n",
              "      <td>73416000391</td>\n",
              "    </tr>\n",
              "    <tr>\n",
              "      <th>2</th>\n",
              "      <td>AV14LG0R-jtxr-f38QfS</td>\n",
              "      <td>Lundberg</td>\n",
              "      <td>Food,Packaged Foods,Snacks,Crackers,Snacks, Co...</td>\n",
              "      <td>2017-07-25T05:16:03Z</td>\n",
              "      <td>2018-02-05T11:27:45Z</td>\n",
              "      <td>73416000391</td>\n",
              "      <td>lundbergorganiccinnamontoastricecakes/b000fvzw...</td>\n",
              "      <td>Lundberg</td>\n",
              "      <td>574764</td>\n",
              "      <td>Lundberg Organic Cinnamon Toast Rice Cakes</td>\n",
              "      <td>...</td>\n",
              "      <td>100209113.0</td>\n",
              "      <td>NaN</td>\n",
              "      <td>5.0</td>\n",
              "      <td>https://www.walmart.com/reviews/product/29775278</td>\n",
              "      <td>Good flavor.</td>\n",
              "      <td>Good</td>\n",
              "      <td>NaN</td>\n",
              "      <td>NaN</td>\n",
              "      <td>Dorothy W</td>\n",
              "      <td>73416000391</td>\n",
              "    </tr>\n",
              "    <tr>\n",
              "      <th>3</th>\n",
              "      <td>AV16khLE-jtxr-f38VFn</td>\n",
              "      <td>K-Y</td>\n",
              "      <td>Personal Care,Medicine Cabinet,Lubricant/Sperm...</td>\n",
              "      <td>2017-07-25T16:26:19Z</td>\n",
              "      <td>2018-02-05T11:25:51Z</td>\n",
              "      <td>67981934427</td>\n",
              "      <td>kylovesensualitypleasuregel/b00u2whx8s,0679819...</td>\n",
              "      <td>K-Y</td>\n",
              "      <td>67981934427</td>\n",
              "      <td>K-Y Love Sensuality Pleasure Gel</td>\n",
              "      <td>...</td>\n",
              "      <td>113026909.0</td>\n",
              "      <td>NaN</td>\n",
              "      <td>1.0</td>\n",
              "      <td>https://www.walmart.com/reviews/product/43383370</td>\n",
              "      <td>I read through the reviews on here before look...</td>\n",
              "      <td>Disappointed</td>\n",
              "      <td>NaN</td>\n",
              "      <td>NaN</td>\n",
              "      <td>Rebecca</td>\n",
              "      <td>67981934427</td>\n",
              "    </tr>\n",
              "    <tr>\n",
              "      <th>4</th>\n",
              "      <td>AV16khLE-jtxr-f38VFn</td>\n",
              "      <td>K-Y</td>\n",
              "      <td>Personal Care,Medicine Cabinet,Lubricant/Sperm...</td>\n",
              "      <td>2017-07-25T16:26:19Z</td>\n",
              "      <td>2018-02-05T11:25:51Z</td>\n",
              "      <td>67981934427</td>\n",
              "      <td>kylovesensualitypleasuregel/b00u2whx8s,0679819...</td>\n",
              "      <td>K-Y</td>\n",
              "      <td>67981934427</td>\n",
              "      <td>K-Y Love Sensuality Pleasure Gel</td>\n",
              "      <td>...</td>\n",
              "      <td>171267657.0</td>\n",
              "      <td>NaN</td>\n",
              "      <td>1.0</td>\n",
              "      <td>https://www.walmart.com/reviews/product/43383370</td>\n",
              "      <td>My husband bought this gel for us. The gel cau...</td>\n",
              "      <td>Irritation</td>\n",
              "      <td>NaN</td>\n",
              "      <td>NaN</td>\n",
              "      <td>Walker557</td>\n",
              "      <td>67981934427</td>\n",
              "    </tr>\n",
              "  </tbody>\n",
              "</table>\n",
              "<p>5 rows × 25 columns</p>\n",
              "</div>\n",
              "    <div class=\"colab-df-buttons\">\n",
              "\n",
              "  <div class=\"colab-df-container\">\n",
              "    <button class=\"colab-df-convert\" onclick=\"convertToInteractive('df-782de104-ff69-455b-a740-3661d0d2ee03')\"\n",
              "            title=\"Convert this dataframe to an interactive table.\"\n",
              "            style=\"display:none;\">\n",
              "\n",
              "  <svg xmlns=\"http://www.w3.org/2000/svg\" height=\"24px\" viewBox=\"0 -960 960 960\">\n",
              "    <path d=\"M120-120v-720h720v720H120Zm60-500h600v-160H180v160Zm220 220h160v-160H400v160Zm0 220h160v-160H400v160ZM180-400h160v-160H180v160Zm440 0h160v-160H620v160ZM180-180h160v-160H180v160Zm440 0h160v-160H620v160Z\"/>\n",
              "  </svg>\n",
              "    </button>\n",
              "\n",
              "  <style>\n",
              "    .colab-df-container {\n",
              "      display:flex;\n",
              "      gap: 12px;\n",
              "    }\n",
              "\n",
              "    .colab-df-convert {\n",
              "      background-color: #E8F0FE;\n",
              "      border: none;\n",
              "      border-radius: 50%;\n",
              "      cursor: pointer;\n",
              "      display: none;\n",
              "      fill: #1967D2;\n",
              "      height: 32px;\n",
              "      padding: 0 0 0 0;\n",
              "      width: 32px;\n",
              "    }\n",
              "\n",
              "    .colab-df-convert:hover {\n",
              "      background-color: #E2EBFA;\n",
              "      box-shadow: 0px 1px 2px rgba(60, 64, 67, 0.3), 0px 1px 3px 1px rgba(60, 64, 67, 0.15);\n",
              "      fill: #174EA6;\n",
              "    }\n",
              "\n",
              "    .colab-df-buttons div {\n",
              "      margin-bottom: 4px;\n",
              "    }\n",
              "\n",
              "    [theme=dark] .colab-df-convert {\n",
              "      background-color: #3B4455;\n",
              "      fill: #D2E3FC;\n",
              "    }\n",
              "\n",
              "    [theme=dark] .colab-df-convert:hover {\n",
              "      background-color: #434B5C;\n",
              "      box-shadow: 0px 1px 3px 1px rgba(0, 0, 0, 0.15);\n",
              "      filter: drop-shadow(0px 1px 2px rgba(0, 0, 0, 0.3));\n",
              "      fill: #FFFFFF;\n",
              "    }\n",
              "  </style>\n",
              "\n",
              "    <script>\n",
              "      const buttonEl =\n",
              "        document.querySelector('#df-782de104-ff69-455b-a740-3661d0d2ee03 button.colab-df-convert');\n",
              "      buttonEl.style.display =\n",
              "        google.colab.kernel.accessAllowed ? 'block' : 'none';\n",
              "\n",
              "      async function convertToInteractive(key) {\n",
              "        const element = document.querySelector('#df-782de104-ff69-455b-a740-3661d0d2ee03');\n",
              "        const dataTable =\n",
              "          await google.colab.kernel.invokeFunction('convertToInteractive',\n",
              "                                                    [key], {});\n",
              "        if (!dataTable) return;\n",
              "\n",
              "        const docLinkHtml = 'Like what you see? Visit the ' +\n",
              "          '<a target=\"_blank\" href=https://colab.research.google.com/notebooks/data_table.ipynb>data table notebook</a>'\n",
              "          + ' to learn more about interactive tables.';\n",
              "        element.innerHTML = '';\n",
              "        dataTable['output_type'] = 'display_data';\n",
              "        await google.colab.output.renderOutput(dataTable, element);\n",
              "        const docLink = document.createElement('div');\n",
              "        docLink.innerHTML = docLinkHtml;\n",
              "        element.appendChild(docLink);\n",
              "      }\n",
              "    </script>\n",
              "  </div>\n",
              "\n",
              "\n",
              "<div id=\"df-2473b50e-d200-41b3-9c42-c6bdc8f36b3e\">\n",
              "  <button class=\"colab-df-quickchart\" onclick=\"quickchart('df-2473b50e-d200-41b3-9c42-c6bdc8f36b3e')\"\n",
              "            title=\"Suggest charts\"\n",
              "            style=\"display:none;\">\n",
              "\n",
              "<svg xmlns=\"http://www.w3.org/2000/svg\" height=\"24px\"viewBox=\"0 0 24 24\"\n",
              "     width=\"24px\">\n",
              "    <g>\n",
              "        <path d=\"M19 3H5c-1.1 0-2 .9-2 2v14c0 1.1.9 2 2 2h14c1.1 0 2-.9 2-2V5c0-1.1-.9-2-2-2zM9 17H7v-7h2v7zm4 0h-2V7h2v10zm4 0h-2v-4h2v4z\"/>\n",
              "    </g>\n",
              "</svg>\n",
              "  </button>\n",
              "\n",
              "<style>\n",
              "  .colab-df-quickchart {\n",
              "      --bg-color: #E8F0FE;\n",
              "      --fill-color: #1967D2;\n",
              "      --hover-bg-color: #E2EBFA;\n",
              "      --hover-fill-color: #174EA6;\n",
              "      --disabled-fill-color: #AAA;\n",
              "      --disabled-bg-color: #DDD;\n",
              "  }\n",
              "\n",
              "  [theme=dark] .colab-df-quickchart {\n",
              "      --bg-color: #3B4455;\n",
              "      --fill-color: #D2E3FC;\n",
              "      --hover-bg-color: #434B5C;\n",
              "      --hover-fill-color: #FFFFFF;\n",
              "      --disabled-bg-color: #3B4455;\n",
              "      --disabled-fill-color: #666;\n",
              "  }\n",
              "\n",
              "  .colab-df-quickchart {\n",
              "    background-color: var(--bg-color);\n",
              "    border: none;\n",
              "    border-radius: 50%;\n",
              "    cursor: pointer;\n",
              "    display: none;\n",
              "    fill: var(--fill-color);\n",
              "    height: 32px;\n",
              "    padding: 0;\n",
              "    width: 32px;\n",
              "  }\n",
              "\n",
              "  .colab-df-quickchart:hover {\n",
              "    background-color: var(--hover-bg-color);\n",
              "    box-shadow: 0 1px 2px rgba(60, 64, 67, 0.3), 0 1px 3px 1px rgba(60, 64, 67, 0.15);\n",
              "    fill: var(--button-hover-fill-color);\n",
              "  }\n",
              "\n",
              "  .colab-df-quickchart-complete:disabled,\n",
              "  .colab-df-quickchart-complete:disabled:hover {\n",
              "    background-color: var(--disabled-bg-color);\n",
              "    fill: var(--disabled-fill-color);\n",
              "    box-shadow: none;\n",
              "  }\n",
              "\n",
              "  .colab-df-spinner {\n",
              "    border: 2px solid var(--fill-color);\n",
              "    border-color: transparent;\n",
              "    border-bottom-color: var(--fill-color);\n",
              "    animation:\n",
              "      spin 1s steps(1) infinite;\n",
              "  }\n",
              "\n",
              "  @keyframes spin {\n",
              "    0% {\n",
              "      border-color: transparent;\n",
              "      border-bottom-color: var(--fill-color);\n",
              "      border-left-color: var(--fill-color);\n",
              "    }\n",
              "    20% {\n",
              "      border-color: transparent;\n",
              "      border-left-color: var(--fill-color);\n",
              "      border-top-color: var(--fill-color);\n",
              "    }\n",
              "    30% {\n",
              "      border-color: transparent;\n",
              "      border-left-color: var(--fill-color);\n",
              "      border-top-color: var(--fill-color);\n",
              "      border-right-color: var(--fill-color);\n",
              "    }\n",
              "    40% {\n",
              "      border-color: transparent;\n",
              "      border-right-color: var(--fill-color);\n",
              "      border-top-color: var(--fill-color);\n",
              "    }\n",
              "    60% {\n",
              "      border-color: transparent;\n",
              "      border-right-color: var(--fill-color);\n",
              "    }\n",
              "    80% {\n",
              "      border-color: transparent;\n",
              "      border-right-color: var(--fill-color);\n",
              "      border-bottom-color: var(--fill-color);\n",
              "    }\n",
              "    90% {\n",
              "      border-color: transparent;\n",
              "      border-bottom-color: var(--fill-color);\n",
              "    }\n",
              "  }\n",
              "</style>\n",
              "\n",
              "  <script>\n",
              "    async function quickchart(key) {\n",
              "      const quickchartButtonEl =\n",
              "        document.querySelector('#' + key + ' button');\n",
              "      quickchartButtonEl.disabled = true;  // To prevent multiple clicks.\n",
              "      quickchartButtonEl.classList.add('colab-df-spinner');\n",
              "      try {\n",
              "        const charts = await google.colab.kernel.invokeFunction(\n",
              "            'suggestCharts', [key], {});\n",
              "      } catch (error) {\n",
              "        console.error('Error during call to suggestCharts:', error);\n",
              "      }\n",
              "      quickchartButtonEl.classList.remove('colab-df-spinner');\n",
              "      quickchartButtonEl.classList.add('colab-df-quickchart-complete');\n",
              "    }\n",
              "    (() => {\n",
              "      let quickchartButtonEl =\n",
              "        document.querySelector('#df-2473b50e-d200-41b3-9c42-c6bdc8f36b3e button');\n",
              "      quickchartButtonEl.style.display =\n",
              "        google.colab.kernel.accessAllowed ? 'block' : 'none';\n",
              "    })();\n",
              "  </script>\n",
              "</div>\n",
              "\n",
              "    </div>\n",
              "  </div>\n"
            ],
            "application/vnd.google.colaboratory.intrinsic+json": {
              "type": "dataframe",
              "variable_name": "df"
            }
          },
          "metadata": {},
          "execution_count": 15
        }
      ]
    },
    {
      "cell_type": "code",
      "source": [
        "df.sample(5)"
      ],
      "metadata": {
        "colab": {
          "base_uri": "https://localhost:8080/",
          "height": 655
        },
        "id": "Unwbj0nAXj3b",
        "outputId": "db905a56-1dce-4523-a3ec-0687dc4c651f"
      },
      "execution_count": 16,
      "outputs": [
        {
          "output_type": "execute_result",
          "data": {
            "text/plain": [
              "                         id               brand  \\\n",
              "12170  AVpf3VOfilAPnD_xjpun              Clorox   \n",
              "24310  AVpfPaoqLJeJML435Xk9   Warner Home Video   \n",
              "11498  AVpf3VOfilAPnD_xjpun              Clorox   \n",
              "27372  AVpfR5m0LJeJML436K3W  Warner Music Group   \n",
              "23538  AVpfPaoqLJeJML435Xk9   Warner Home Video   \n",
              "\n",
              "                                              categories  \\\n",
              "12170  Household Essentials,Cleaning Supplies,Kitchen...   \n",
              "24310  Movies, Music & Books,Movies,Action & Adventur...   \n",
              "11498  Household Essentials,Cleaning Supplies,Kitchen...   \n",
              "27372  Music on CD or Vinyl,Country Music on CD or Vi...   \n",
              "23538  Movies, Music & Books,Movies,Action & Adventur...   \n",
              "\n",
              "                  dateAdded           dateUpdated  \\\n",
              "12170  2015-09-11T18:17:13Z  2018-02-05T08:35:02Z   \n",
              "24310  2016-07-26T21:32:40Z  2018-02-05T10:22:44Z   \n",
              "11498  2015-09-11T18:17:13Z  2018-02-05T08:35:02Z   \n",
              "27372  2016-08-01T02:57:41Z  2018-02-05T08:36:40Z   \n",
              "23538  2016-07-26T21:32:40Z  2018-02-05T10:22:44Z   \n",
              "\n",
              "                                     ean  \\\n",
              "12170                        44600015996   \n",
              "24310                                NaN   \n",
              "11498                        44600015996   \n",
              "27372  6,974,872,227,130,690,000,000,000   \n",
              "23538                                NaN   \n",
              "\n",
              "                                                    keys manufacturer  \\\n",
              "12170  clorox/12992356,044600015996,cloroxdisinfectin...       Clorox   \n",
              "24310  warnerhomevideo/15773884,883929388448,godzilla...         Test   \n",
              "11498  clorox/12992356,044600015996,cloroxdisinfectin...       Clorox   \n",
              "27372  697487222720,warnermusicgroup/51400797,jasonal...   Broken Bow   \n",
              "23538  warnerhomevideo/15773884,883929388448,godzilla...         Test   \n",
              "\n",
              "      manufacturerNumber                                               name  \\\n",
              "12170           12992356  Clorox Disinfecting Wipes Value Pack Scented 1...   \n",
              "24310           15773884  Godzilla 3d Includes Digital Copy Ultraviolet ...   \n",
              "11498           12992356  Clorox Disinfecting Wipes Value Pack Scented 1...   \n",
              "27372           51400797                     Jason Aldean - They Don't Know   \n",
              "23538           15773884  Godzilla 3d Includes Digital Copy Ultraviolet ...   \n",
              "\n",
              "       ...  reviews.id reviews.numHelpful reviews.rating  \\\n",
              "12170  ...  68304609.0                NaN            5.0   \n",
              "24310  ...         NaN                0.0            4.0   \n",
              "11498  ...  27991427.0                NaN            5.0   \n",
              "27372  ...         NaN                0.0            5.0   \n",
              "23538  ...         NaN                0.0            3.0   \n",
              "\n",
              "                                      reviews.sourceURLs  \\\n",
              "12170  https://www.walmart.com/reviews/product/148983...   \n",
              "24310  http://reviews.bestbuy.com/3545/6435036/review...   \n",
              "11498  https://www.walmart.com/reviews/product/148983...   \n",
              "27372  http://reviews.bestbuy.com/3545/5475202/review...   \n",
              "23538  http://reviews.bestbuy.com/3545/6435036/review...   \n",
              "\n",
              "                                            reviews.text  \\\n",
              "12170  Great to have in the bathroom for quick cleani...   \n",
              "24310  The extras are good but lack any deleted scene...   \n",
              "11498  I love using these wipes. Great for the bathro...   \n",
              "27372  Bought this CD for my boyfriend to get is coll...   \n",
              "23538  Not enough Godzilla in the movie. You only get...   \n",
              "\n",
              "                             reviews.title  reviews.userCity  \\\n",
              "12170                           Convenient               NaN   \n",
              "24310  Solid DVD/BlueRay/UltraViolet Combo               NaN   \n",
              "11498                             Love it!               NaN   \n",
              "27372                 Who doesn't love JA!               NaN   \n",
              "23538    Not enough Godzilla in the movie.               NaN   \n",
              "\n",
              "       reviews.userProvince reviews.username                              upc  \n",
              "12170                   NaN         MomNandN                      44600015996  \n",
              "24310                   NaN        KOTMFan69                      8.83929E+11  \n",
              "11498                   NaN          jbnfmly                      44600015996  \n",
              "27372                   NaN          dogmom4  697,487,222,720,697,000,000,000  \n",
              "23538                   NaN            Danbt                      8.83929E+11  \n",
              "\n",
              "[5 rows x 25 columns]"
            ],
            "text/html": [
              "\n",
              "  <div id=\"df-d58ff8b2-3b2e-4bc9-b799-d67e7d3a5d99\" class=\"colab-df-container\">\n",
              "    <div>\n",
              "<style scoped>\n",
              "    .dataframe tbody tr th:only-of-type {\n",
              "        vertical-align: middle;\n",
              "    }\n",
              "\n",
              "    .dataframe tbody tr th {\n",
              "        vertical-align: top;\n",
              "    }\n",
              "\n",
              "    .dataframe thead th {\n",
              "        text-align: right;\n",
              "    }\n",
              "</style>\n",
              "<table border=\"1\" class=\"dataframe\">\n",
              "  <thead>\n",
              "    <tr style=\"text-align: right;\">\n",
              "      <th></th>\n",
              "      <th>id</th>\n",
              "      <th>brand</th>\n",
              "      <th>categories</th>\n",
              "      <th>dateAdded</th>\n",
              "      <th>dateUpdated</th>\n",
              "      <th>ean</th>\n",
              "      <th>keys</th>\n",
              "      <th>manufacturer</th>\n",
              "      <th>manufacturerNumber</th>\n",
              "      <th>name</th>\n",
              "      <th>...</th>\n",
              "      <th>reviews.id</th>\n",
              "      <th>reviews.numHelpful</th>\n",
              "      <th>reviews.rating</th>\n",
              "      <th>reviews.sourceURLs</th>\n",
              "      <th>reviews.text</th>\n",
              "      <th>reviews.title</th>\n",
              "      <th>reviews.userCity</th>\n",
              "      <th>reviews.userProvince</th>\n",
              "      <th>reviews.username</th>\n",
              "      <th>upc</th>\n",
              "    </tr>\n",
              "  </thead>\n",
              "  <tbody>\n",
              "    <tr>\n",
              "      <th>12170</th>\n",
              "      <td>AVpf3VOfilAPnD_xjpun</td>\n",
              "      <td>Clorox</td>\n",
              "      <td>Household Essentials,Cleaning Supplies,Kitchen...</td>\n",
              "      <td>2015-09-11T18:17:13Z</td>\n",
              "      <td>2018-02-05T08:35:02Z</td>\n",
              "      <td>44600015996</td>\n",
              "      <td>clorox/12992356,044600015996,cloroxdisinfectin...</td>\n",
              "      <td>Clorox</td>\n",
              "      <td>12992356</td>\n",
              "      <td>Clorox Disinfecting Wipes Value Pack Scented 1...</td>\n",
              "      <td>...</td>\n",
              "      <td>68304609.0</td>\n",
              "      <td>NaN</td>\n",
              "      <td>5.0</td>\n",
              "      <td>https://www.walmart.com/reviews/product/148983...</td>\n",
              "      <td>Great to have in the bathroom for quick cleani...</td>\n",
              "      <td>Convenient</td>\n",
              "      <td>NaN</td>\n",
              "      <td>NaN</td>\n",
              "      <td>MomNandN</td>\n",
              "      <td>44600015996</td>\n",
              "    </tr>\n",
              "    <tr>\n",
              "      <th>24310</th>\n",
              "      <td>AVpfPaoqLJeJML435Xk9</td>\n",
              "      <td>Warner Home Video</td>\n",
              "      <td>Movies, Music &amp; Books,Movies,Action &amp; Adventur...</td>\n",
              "      <td>2016-07-26T21:32:40Z</td>\n",
              "      <td>2018-02-05T10:22:44Z</td>\n",
              "      <td>NaN</td>\n",
              "      <td>warnerhomevideo/15773884,883929388448,godzilla...</td>\n",
              "      <td>Test</td>\n",
              "      <td>15773884</td>\n",
              "      <td>Godzilla 3d Includes Digital Copy Ultraviolet ...</td>\n",
              "      <td>...</td>\n",
              "      <td>NaN</td>\n",
              "      <td>0.0</td>\n",
              "      <td>4.0</td>\n",
              "      <td>http://reviews.bestbuy.com/3545/6435036/review...</td>\n",
              "      <td>The extras are good but lack any deleted scene...</td>\n",
              "      <td>Solid DVD/BlueRay/UltraViolet Combo</td>\n",
              "      <td>NaN</td>\n",
              "      <td>NaN</td>\n",
              "      <td>KOTMFan69</td>\n",
              "      <td>8.83929E+11</td>\n",
              "    </tr>\n",
              "    <tr>\n",
              "      <th>11498</th>\n",
              "      <td>AVpf3VOfilAPnD_xjpun</td>\n",
              "      <td>Clorox</td>\n",
              "      <td>Household Essentials,Cleaning Supplies,Kitchen...</td>\n",
              "      <td>2015-09-11T18:17:13Z</td>\n",
              "      <td>2018-02-05T08:35:02Z</td>\n",
              "      <td>44600015996</td>\n",
              "      <td>clorox/12992356,044600015996,cloroxdisinfectin...</td>\n",
              "      <td>Clorox</td>\n",
              "      <td>12992356</td>\n",
              "      <td>Clorox Disinfecting Wipes Value Pack Scented 1...</td>\n",
              "      <td>...</td>\n",
              "      <td>27991427.0</td>\n",
              "      <td>NaN</td>\n",
              "      <td>5.0</td>\n",
              "      <td>https://www.walmart.com/reviews/product/148983...</td>\n",
              "      <td>I love using these wipes. Great for the bathro...</td>\n",
              "      <td>Love it!</td>\n",
              "      <td>NaN</td>\n",
              "      <td>NaN</td>\n",
              "      <td>jbnfmly</td>\n",
              "      <td>44600015996</td>\n",
              "    </tr>\n",
              "    <tr>\n",
              "      <th>27372</th>\n",
              "      <td>AVpfR5m0LJeJML436K3W</td>\n",
              "      <td>Warner Music Group</td>\n",
              "      <td>Music on CD or Vinyl,Country Music on CD or Vi...</td>\n",
              "      <td>2016-08-01T02:57:41Z</td>\n",
              "      <td>2018-02-05T08:36:40Z</td>\n",
              "      <td>6,974,872,227,130,690,000,000,000</td>\n",
              "      <td>697487222720,warnermusicgroup/51400797,jasonal...</td>\n",
              "      <td>Broken Bow</td>\n",
              "      <td>51400797</td>\n",
              "      <td>Jason Aldean - They Don't Know</td>\n",
              "      <td>...</td>\n",
              "      <td>NaN</td>\n",
              "      <td>0.0</td>\n",
              "      <td>5.0</td>\n",
              "      <td>http://reviews.bestbuy.com/3545/5475202/review...</td>\n",
              "      <td>Bought this CD for my boyfriend to get is coll...</td>\n",
              "      <td>Who doesn't love JA!</td>\n",
              "      <td>NaN</td>\n",
              "      <td>NaN</td>\n",
              "      <td>dogmom4</td>\n",
              "      <td>697,487,222,720,697,000,000,000</td>\n",
              "    </tr>\n",
              "    <tr>\n",
              "      <th>23538</th>\n",
              "      <td>AVpfPaoqLJeJML435Xk9</td>\n",
              "      <td>Warner Home Video</td>\n",
              "      <td>Movies, Music &amp; Books,Movies,Action &amp; Adventur...</td>\n",
              "      <td>2016-07-26T21:32:40Z</td>\n",
              "      <td>2018-02-05T10:22:44Z</td>\n",
              "      <td>NaN</td>\n",
              "      <td>warnerhomevideo/15773884,883929388448,godzilla...</td>\n",
              "      <td>Test</td>\n",
              "      <td>15773884</td>\n",
              "      <td>Godzilla 3d Includes Digital Copy Ultraviolet ...</td>\n",
              "      <td>...</td>\n",
              "      <td>NaN</td>\n",
              "      <td>0.0</td>\n",
              "      <td>3.0</td>\n",
              "      <td>http://reviews.bestbuy.com/3545/6435036/review...</td>\n",
              "      <td>Not enough Godzilla in the movie. You only get...</td>\n",
              "      <td>Not enough Godzilla in the movie.</td>\n",
              "      <td>NaN</td>\n",
              "      <td>NaN</td>\n",
              "      <td>Danbt</td>\n",
              "      <td>8.83929E+11</td>\n",
              "    </tr>\n",
              "  </tbody>\n",
              "</table>\n",
              "<p>5 rows × 25 columns</p>\n",
              "</div>\n",
              "    <div class=\"colab-df-buttons\">\n",
              "\n",
              "  <div class=\"colab-df-container\">\n",
              "    <button class=\"colab-df-convert\" onclick=\"convertToInteractive('df-d58ff8b2-3b2e-4bc9-b799-d67e7d3a5d99')\"\n",
              "            title=\"Convert this dataframe to an interactive table.\"\n",
              "            style=\"display:none;\">\n",
              "\n",
              "  <svg xmlns=\"http://www.w3.org/2000/svg\" height=\"24px\" viewBox=\"0 -960 960 960\">\n",
              "    <path d=\"M120-120v-720h720v720H120Zm60-500h600v-160H180v160Zm220 220h160v-160H400v160Zm0 220h160v-160H400v160ZM180-400h160v-160H180v160Zm440 0h160v-160H620v160ZM180-180h160v-160H180v160Zm440 0h160v-160H620v160Z\"/>\n",
              "  </svg>\n",
              "    </button>\n",
              "\n",
              "  <style>\n",
              "    .colab-df-container {\n",
              "      display:flex;\n",
              "      gap: 12px;\n",
              "    }\n",
              "\n",
              "    .colab-df-convert {\n",
              "      background-color: #E8F0FE;\n",
              "      border: none;\n",
              "      border-radius: 50%;\n",
              "      cursor: pointer;\n",
              "      display: none;\n",
              "      fill: #1967D2;\n",
              "      height: 32px;\n",
              "      padding: 0 0 0 0;\n",
              "      width: 32px;\n",
              "    }\n",
              "\n",
              "    .colab-df-convert:hover {\n",
              "      background-color: #E2EBFA;\n",
              "      box-shadow: 0px 1px 2px rgba(60, 64, 67, 0.3), 0px 1px 3px 1px rgba(60, 64, 67, 0.15);\n",
              "      fill: #174EA6;\n",
              "    }\n",
              "\n",
              "    .colab-df-buttons div {\n",
              "      margin-bottom: 4px;\n",
              "    }\n",
              "\n",
              "    [theme=dark] .colab-df-convert {\n",
              "      background-color: #3B4455;\n",
              "      fill: #D2E3FC;\n",
              "    }\n",
              "\n",
              "    [theme=dark] .colab-df-convert:hover {\n",
              "      background-color: #434B5C;\n",
              "      box-shadow: 0px 1px 3px 1px rgba(0, 0, 0, 0.15);\n",
              "      filter: drop-shadow(0px 1px 2px rgba(0, 0, 0, 0.3));\n",
              "      fill: #FFFFFF;\n",
              "    }\n",
              "  </style>\n",
              "\n",
              "    <script>\n",
              "      const buttonEl =\n",
              "        document.querySelector('#df-d58ff8b2-3b2e-4bc9-b799-d67e7d3a5d99 button.colab-df-convert');\n",
              "      buttonEl.style.display =\n",
              "        google.colab.kernel.accessAllowed ? 'block' : 'none';\n",
              "\n",
              "      async function convertToInteractive(key) {\n",
              "        const element = document.querySelector('#df-d58ff8b2-3b2e-4bc9-b799-d67e7d3a5d99');\n",
              "        const dataTable =\n",
              "          await google.colab.kernel.invokeFunction('convertToInteractive',\n",
              "                                                    [key], {});\n",
              "        if (!dataTable) return;\n",
              "\n",
              "        const docLinkHtml = 'Like what you see? Visit the ' +\n",
              "          '<a target=\"_blank\" href=https://colab.research.google.com/notebooks/data_table.ipynb>data table notebook</a>'\n",
              "          + ' to learn more about interactive tables.';\n",
              "        element.innerHTML = '';\n",
              "        dataTable['output_type'] = 'display_data';\n",
              "        await google.colab.output.renderOutput(dataTable, element);\n",
              "        const docLink = document.createElement('div');\n",
              "        docLink.innerHTML = docLinkHtml;\n",
              "        element.appendChild(docLink);\n",
              "      }\n",
              "    </script>\n",
              "  </div>\n",
              "\n",
              "\n",
              "<div id=\"df-3432ba92-9a54-4d7d-8247-75b053e3cb52\">\n",
              "  <button class=\"colab-df-quickchart\" onclick=\"quickchart('df-3432ba92-9a54-4d7d-8247-75b053e3cb52')\"\n",
              "            title=\"Suggest charts\"\n",
              "            style=\"display:none;\">\n",
              "\n",
              "<svg xmlns=\"http://www.w3.org/2000/svg\" height=\"24px\"viewBox=\"0 0 24 24\"\n",
              "     width=\"24px\">\n",
              "    <g>\n",
              "        <path d=\"M19 3H5c-1.1 0-2 .9-2 2v14c0 1.1.9 2 2 2h14c1.1 0 2-.9 2-2V5c0-1.1-.9-2-2-2zM9 17H7v-7h2v7zm4 0h-2V7h2v10zm4 0h-2v-4h2v4z\"/>\n",
              "    </g>\n",
              "</svg>\n",
              "  </button>\n",
              "\n",
              "<style>\n",
              "  .colab-df-quickchart {\n",
              "      --bg-color: #E8F0FE;\n",
              "      --fill-color: #1967D2;\n",
              "      --hover-bg-color: #E2EBFA;\n",
              "      --hover-fill-color: #174EA6;\n",
              "      --disabled-fill-color: #AAA;\n",
              "      --disabled-bg-color: #DDD;\n",
              "  }\n",
              "\n",
              "  [theme=dark] .colab-df-quickchart {\n",
              "      --bg-color: #3B4455;\n",
              "      --fill-color: #D2E3FC;\n",
              "      --hover-bg-color: #434B5C;\n",
              "      --hover-fill-color: #FFFFFF;\n",
              "      --disabled-bg-color: #3B4455;\n",
              "      --disabled-fill-color: #666;\n",
              "  }\n",
              "\n",
              "  .colab-df-quickchart {\n",
              "    background-color: var(--bg-color);\n",
              "    border: none;\n",
              "    border-radius: 50%;\n",
              "    cursor: pointer;\n",
              "    display: none;\n",
              "    fill: var(--fill-color);\n",
              "    height: 32px;\n",
              "    padding: 0;\n",
              "    width: 32px;\n",
              "  }\n",
              "\n",
              "  .colab-df-quickchart:hover {\n",
              "    background-color: var(--hover-bg-color);\n",
              "    box-shadow: 0 1px 2px rgba(60, 64, 67, 0.3), 0 1px 3px 1px rgba(60, 64, 67, 0.15);\n",
              "    fill: var(--button-hover-fill-color);\n",
              "  }\n",
              "\n",
              "  .colab-df-quickchart-complete:disabled,\n",
              "  .colab-df-quickchart-complete:disabled:hover {\n",
              "    background-color: var(--disabled-bg-color);\n",
              "    fill: var(--disabled-fill-color);\n",
              "    box-shadow: none;\n",
              "  }\n",
              "\n",
              "  .colab-df-spinner {\n",
              "    border: 2px solid var(--fill-color);\n",
              "    border-color: transparent;\n",
              "    border-bottom-color: var(--fill-color);\n",
              "    animation:\n",
              "      spin 1s steps(1) infinite;\n",
              "  }\n",
              "\n",
              "  @keyframes spin {\n",
              "    0% {\n",
              "      border-color: transparent;\n",
              "      border-bottom-color: var(--fill-color);\n",
              "      border-left-color: var(--fill-color);\n",
              "    }\n",
              "    20% {\n",
              "      border-color: transparent;\n",
              "      border-left-color: var(--fill-color);\n",
              "      border-top-color: var(--fill-color);\n",
              "    }\n",
              "    30% {\n",
              "      border-color: transparent;\n",
              "      border-left-color: var(--fill-color);\n",
              "      border-top-color: var(--fill-color);\n",
              "      border-right-color: var(--fill-color);\n",
              "    }\n",
              "    40% {\n",
              "      border-color: transparent;\n",
              "      border-right-color: var(--fill-color);\n",
              "      border-top-color: var(--fill-color);\n",
              "    }\n",
              "    60% {\n",
              "      border-color: transparent;\n",
              "      border-right-color: var(--fill-color);\n",
              "    }\n",
              "    80% {\n",
              "      border-color: transparent;\n",
              "      border-right-color: var(--fill-color);\n",
              "      border-bottom-color: var(--fill-color);\n",
              "    }\n",
              "    90% {\n",
              "      border-color: transparent;\n",
              "      border-bottom-color: var(--fill-color);\n",
              "    }\n",
              "  }\n",
              "</style>\n",
              "\n",
              "  <script>\n",
              "    async function quickchart(key) {\n",
              "      const quickchartButtonEl =\n",
              "        document.querySelector('#' + key + ' button');\n",
              "      quickchartButtonEl.disabled = true;  // To prevent multiple clicks.\n",
              "      quickchartButtonEl.classList.add('colab-df-spinner');\n",
              "      try {\n",
              "        const charts = await google.colab.kernel.invokeFunction(\n",
              "            'suggestCharts', [key], {});\n",
              "      } catch (error) {\n",
              "        console.error('Error during call to suggestCharts:', error);\n",
              "      }\n",
              "      quickchartButtonEl.classList.remove('colab-df-spinner');\n",
              "      quickchartButtonEl.classList.add('colab-df-quickchart-complete');\n",
              "    }\n",
              "    (() => {\n",
              "      let quickchartButtonEl =\n",
              "        document.querySelector('#df-3432ba92-9a54-4d7d-8247-75b053e3cb52 button');\n",
              "      quickchartButtonEl.style.display =\n",
              "        google.colab.kernel.accessAllowed ? 'block' : 'none';\n",
              "    })();\n",
              "  </script>\n",
              "</div>\n",
              "\n",
              "    </div>\n",
              "  </div>\n"
            ],
            "application/vnd.google.colaboratory.intrinsic+json": {
              "type": "dataframe"
            }
          },
          "metadata": {},
          "execution_count": 16
        }
      ]
    },
    {
      "cell_type": "code",
      "source": [
        "df.shape"
      ],
      "metadata": {
        "colab": {
          "base_uri": "https://localhost:8080/"
        },
        "id": "68hqg8HjXpBr",
        "outputId": "5f221485-e9cb-453b-f944-359cbfe09cb7"
      },
      "execution_count": 18,
      "outputs": [
        {
          "output_type": "execute_result",
          "data": {
            "text/plain": [
              "(39296, 25)"
            ]
          },
          "metadata": {},
          "execution_count": 18
        }
      ]
    },
    {
      "cell_type": "code",
      "source": [
        "df.columns"
      ],
      "metadata": {
        "colab": {
          "base_uri": "https://localhost:8080/"
        },
        "id": "Pk_3cWXXXrdH",
        "outputId": "ccfe97de-ed62-4229-8afc-f32c262fc316"
      },
      "execution_count": 19,
      "outputs": [
        {
          "output_type": "execute_result",
          "data": {
            "text/plain": [
              "Index(['id', 'brand', 'categories', 'dateAdded', 'dateUpdated', 'ean', 'keys',\n",
              "       'manufacturer', 'manufacturerNumber', 'name', 'reviews.date',\n",
              "       'reviews.dateAdded', 'reviews.dateSeen', 'reviews.didPurchase',\n",
              "       'reviews.doRecommend', 'reviews.id', 'reviews.numHelpful',\n",
              "       'reviews.rating', 'reviews.sourceURLs', 'reviews.text', 'reviews.title',\n",
              "       'reviews.userCity', 'reviews.userProvince', 'reviews.username', 'upc'],\n",
              "      dtype='object')"
            ]
          },
          "metadata": {},
          "execution_count": 19
        }
      ]
    },
    {
      "cell_type": "code",
      "source": [
        "df.isnull().sum()"
      ],
      "metadata": {
        "colab": {
          "base_uri": "https://localhost:8080/"
        },
        "id": "tO08dZIeXvEM",
        "outputId": "04d146c6-44f6-45c6-c851-f49575132693"
      },
      "execution_count": 20,
      "outputs": [
        {
          "output_type": "execute_result",
          "data": {
            "text/plain": [
              "id                          0\n",
              "brand                       0\n",
              "categories                  0\n",
              "dateAdded                   0\n",
              "dateUpdated                 1\n",
              "ean                     14555\n",
              "keys                        1\n",
              "manufacturer              142\n",
              "manufacturerNumber         33\n",
              "name                        1\n",
              "reviews.date               65\n",
              "reviews.dateAdded           1\n",
              "reviews.dateSeen            1\n",
              "reviews.didPurchase     21299\n",
              "reviews.doRecommend      4280\n",
              "reviews.id              21299\n",
              "reviews.numHelpful      23483\n",
              "reviews.rating              1\n",
              "reviews.sourceURLs          1\n",
              "reviews.text               30\n",
              "reviews.title             239\n",
              "reviews.userCity        35996\n",
              "reviews.userProvince    39021\n",
              "reviews.username           66\n",
              "upc                         3\n",
              "dtype: int64"
            ]
          },
          "metadata": {},
          "execution_count": 20
        }
      ]
    },
    {
      "cell_type": "code",
      "source": [
        "#Selecting required columns - product review\n",
        "df1 = df[['brand','manufacturer','reviews.didPurchase','reviews.rating', 'reviews.text']]"
      ],
      "metadata": {
        "id": "OYUgoq8gXycG"
      },
      "execution_count": 23,
      "outputs": []
    },
    {
      "cell_type": "code",
      "source": [
        "df1.isnull().sum()"
      ],
      "metadata": {
        "colab": {
          "base_uri": "https://localhost:8080/"
        },
        "id": "UEz_7JzGYLOT",
        "outputId": "b40289da-8240-4ade-dfa9-7776cd6e6718"
      },
      "execution_count": 24,
      "outputs": [
        {
          "output_type": "execute_result",
          "data": {
            "text/plain": [
              "brand                      0\n",
              "manufacturer             142\n",
              "reviews.didPurchase    21299\n",
              "reviews.rating             1\n",
              "reviews.text              30\n",
              "dtype: int64"
            ]
          },
          "metadata": {},
          "execution_count": 24
        }
      ]
    },
    {
      "cell_type": "code",
      "source": [
        "#Filling the null values\n",
        "df1['reviews.didPurchase'] = df1['reviews.didPurchase'].fillna('Not Avialable')"
      ],
      "metadata": {
        "id": "H1acBnohYb6O"
      },
      "execution_count": 26,
      "outputs": []
    },
    {
      "cell_type": "code",
      "source": [
        "df1 = df1.dropna()"
      ],
      "metadata": {
        "id": "TVlI06oXYqeB"
      },
      "execution_count": 27,
      "outputs": []
    },
    {
      "cell_type": "code",
      "source": [
        "#review rating distribution\n",
        "data = df1['reviews.rating'].value_counts()"
      ],
      "metadata": {
        "id": "lT824bzvY0zJ"
      },
      "execution_count": 55,
      "outputs": []
    },
    {
      "cell_type": "code",
      "source": [
        "sns.barplot(x=data.index, y=data.values)"
      ],
      "metadata": {
        "colab": {
          "base_uri": "https://localhost:8080/",
          "height": 466
        },
        "id": "IrBiQ8LIY6cq",
        "outputId": "a2c4510f-f95a-4cf9-d161-32fbbb0447f2"
      },
      "execution_count": 31,
      "outputs": [
        {
          "output_type": "execute_result",
          "data": {
            "text/plain": [
              "<Axes: xlabel='None'>"
            ]
          },
          "metadata": {},
          "execution_count": 31
        },
        {
          "output_type": "display_data",
          "data": {
            "text/plain": [
              "<Figure size 640x480 with 1 Axes>"
            ],
            "image/png": "[encoded data removed]"
          },
          "metadata": {}
        }
      ]
    },
    {
      "cell_type": "code",
      "source": [
        "#need to map 1,2 - Unhappy, 3- OK, 4,5 - Unhappy\n",
        "#Fake reviews provided by user\n",
        "ax_plt = sns.countplot(df1['reviews.didPurchase'])\n",
        "ax_plt.set_xlabel(xlabel=\"User's Reviews\",fontsize=12)\n",
        "ax_plt.set_ylabel(ylabel='No. of Reviews',fontsize=12)\n",
        "ax_plt.axes.set_title('Accurate No. of Reviews',fontsize=12)\n",
        "ax_plt.tick_params(labelsize=11)"
      ],
      "metadata": {
        "colab": {
          "base_uri": "https://localhost:8080/",
          "height": 477
        },
        "id": "ekurksUkZK1i",
        "outputId": "8e7923cc-8696-4e8f-a46c-ff8a9f8c811e"
      },
      "execution_count": 34,
      "outputs": [
        {
          "output_type": "display_data",
          "data": {
            "text/plain": [
              "<Figure size 640x480 with 1 Axes>"
            ],
            "image/png": "[encoded data removed]"
          },
          "metadata": {}
        }
      ]
    },
    {
      "cell_type": "markdown",
      "source": [
        "True reviews are less in number and as we can see poeple who didn't even purchase the product has provided reviews these are all fake reviews which are much higher than those who have purchased and provided the review."
      ],
      "metadata": {
        "id": "qXYSv1xci-q1"
      }
    },
    {
      "cell_type": "code",
      "source": [
        "#wordcloud\n",
        "stopwords = set(STOPWORDS)\n",
        "def wordcloud(data, title = None):\n",
        "    wordcloud = WordCloud(\n",
        "        background_color='white',\n",
        "        stopwords=stopwords,\n",
        "        max_words=250,\n",
        "        max_font_size=30,\n",
        "        scale=2,\n",
        "        random_state=5 #chosen a andom by flipping a coin; it was heads\n",
        ").generate(str(data))\n",
        "\n",
        "    fig = plt.figure(1, figsize=(8, 8))\n",
        "    plt.axis('off')\n",
        "    if title:\n",
        "        fig.suptitle(title, fontsize=20)\n",
        "        fig.subplots_adjust(top=2.3)\n",
        "    plt.imshow(wordcloud)\n",
        "    plt.show()\n",
        "\n",
        "wordcloud(df1['reviews.text'])"
      ],
      "metadata": {
        "colab": {
          "base_uri": "https://localhost:8080/",
          "height": 346
        },
        "id": "kmgtcEBeZsvV",
        "outputId": "6a1ae67c-4f27-4ca6-e547-4c24bea9791b"
      },
      "execution_count": 37,
      "outputs": [
        {
          "output_type": "display_data",
          "data": {
            "text/plain": [
              "<Figure size 800x800 with 1 Axes>"
            ],
            "image/png": "[encoded data removed]"
          },
          "metadata": {}
        }
      ]
    },
    {
      "cell_type": "code",
      "source": [
        "#feature transformation\n",
        "data=df1['reviews.text']\n",
        "train_data=df1['reviews.text']\n",
        "y_target=df1['reviews.rating'].map({1:'Unhappy',2:'Unhappy',3:'Ok',4:'Happy',5:'Happy'})"
      ],
      "metadata": {
        "id": "XnWUy17YawR2"
      },
      "execution_count": 39,
      "outputs": []
    },
    {
      "cell_type": "code",
      "source": [
        "vectorize_word = TfidfVectorizer(sublinear_tf=True,strip_accents='unicode',analyzer='word',token_pattern=r'\\w{1,}',stop_words='english',ngram_range=(1, 1),max_features=10000)\n",
        "vectorize_word.fit(data)\n",
        "train_features_word = vectorize_word.transform(train_data)"
      ],
      "metadata": {
        "id": "Uzq3atb_a6L3"
      },
      "execution_count": 40,
      "outputs": []
    },
    {
      "cell_type": "code",
      "source": [
        "vectorize_char = TfidfVectorizer(sublinear_tf=True,strip_accents='unicode',analyzer='char',stop_words='english',ngram_range=(2, 6),max_features=50000)\n",
        "vectorize_char.fit(data)\n",
        "train_features_char = vectorize_char.transform(train_data)\n",
        "train_features = hstack([train_features_char, train_features_word])"
      ],
      "metadata": {
        "colab": {
          "base_uri": "https://localhost:8080/"
        },
        "id": "Jqtic3k0a9nG",
        "outputId": "d7a02015-c0e0-4641-cc40-37a1f84bf57d"
      },
      "execution_count": 41,
      "outputs": [
        {
          "output_type": "stream",
          "name": "stderr",
          "text": [
            "/usr/local/lib/python3.10/dist-packages/sklearn/feature_extraction/text.py:550: UserWarning: The parameter 'stop_words' will not be used since 'analyzer' != 'word'\n",
            "  warnings.warn(\n"
          ]
        }
      ]
    },
    {
      "cell_type": "code",
      "source": [
        "X_train, X_test, y_train, y_test = train_test_split(train_features, y_target,test_size=0.3,random_state=101,shuffle=True)"
      ],
      "metadata": {
        "id": "j2hTf0LKbZnx"
      },
      "execution_count": 42,
      "outputs": []
    },
    {
      "cell_type": "markdown",
      "source": [
        "#SVC model"
      ],
      "metadata": {
        "id": "xJhvdkmgbjSa"
      }
    },
    {
      "cell_type": "code",
      "source": [
        "lsvm = LinearSVC(class_weight='balanced')\n",
        "l = lsvm.fit(X_train,y_train)"
      ],
      "metadata": {
        "id": "lz3vR0TMbl5l"
      },
      "execution_count": 43,
      "outputs": []
    },
    {
      "cell_type": "code",
      "source": [
        "#linear SVC matric over training\n",
        "pred_train = l.predict(X_train)"
      ],
      "metadata": {
        "id": "bJU-blW5bqQP"
      },
      "execution_count": 44,
      "outputs": []
    },
    {
      "cell_type": "code",
      "source": [
        "print(\"Accuracy Train: {}\".format(accuracy_score(y_train,pred_train)))\n",
        "print(classification_report(y_train,pred_train))"
      ],
      "metadata": {
        "colab": {
          "base_uri": "https://localhost:8080/"
        },
        "id": "Nm1yT9u-b0PF",
        "outputId": "0fbeaf2b-6934-4eef-ffab-e4a4377e2351"
      },
      "execution_count": 45,
      "outputs": [
        {
          "output_type": "stream",
          "name": "stdout",
          "text": [
            "Accuracy Train: 0.9977361521889948\n",
            "              precision    recall  f1-score   support\n",
            "\n",
            "       Happy       1.00      1.00      1.00     24578\n",
            "          Ok       0.96      0.99      0.98      1276\n",
            "     Unhappy       1.00      1.00      1.00      1533\n",
            "\n",
            "    accuracy                           1.00     27387\n",
            "   macro avg       0.99      1.00      0.99     27387\n",
            "weighted avg       1.00      1.00      1.00     27387\n",
            "\n"
          ]
        }
      ]
    },
    {
      "cell_type": "code",
      "source": [
        "#Linear SVC metric over test\n",
        "pred_test=l.predict(X_test)"
      ],
      "metadata": {
        "id": "h_TB8C7tb5uI"
      },
      "execution_count": 46,
      "outputs": []
    },
    {
      "cell_type": "code",
      "source": [
        "print(\"Accuracy Test : {}\".format(accuracy_score(y_test,pred_test)))\n",
        "print(classification_report(y_test,pred_test))"
      ],
      "metadata": {
        "colab": {
          "base_uri": "https://localhost:8080/"
        },
        "id": "b98W49GDb_ho",
        "outputId": "7a654afe-2964-46cd-f60b-7be734f9f893"
      },
      "execution_count": 47,
      "outputs": [
        {
          "output_type": "stream",
          "name": "stdout",
          "text": [
            "Accuracy Test : 0.9262225251320497\n",
            "              precision    recall  f1-score   support\n",
            "\n",
            "       Happy       0.96      0.97      0.96     10486\n",
            "          Ok       0.44      0.35      0.39       570\n",
            "     Unhappy       0.78      0.67      0.72       682\n",
            "\n",
            "    accuracy                           0.93     11738\n",
            "   macro avg       0.72      0.67      0.69     11738\n",
            "weighted avg       0.92      0.93      0.92     11738\n",
            "\n"
          ]
        }
      ]
    },
    {
      "cell_type": "code",
      "source": [
        "skplt.metrics.plot_confusion_matrix(y_test, pred_test, normalize=True)\n",
        "plt.show()"
      ],
      "metadata": {
        "colab": {
          "base_uri": "https://localhost:8080/",
          "height": 472
        },
        "id": "eVsWdeqycD9h",
        "outputId": "5bb6ab98-c45b-4952-9479-2db64e12b5fc"
      },
      "execution_count": 48,
      "outputs": [
        {
          "output_type": "display_data",
          "data": {
            "text/plain": [
              "<Figure size 640x480 with 2 Axes>"
            ],
            "image/png": "[encoded data removed]"
          },
          "metadata": {}
        }
      ]
    },
    {
      "cell_type": "markdown",
      "source": [
        "#SGD classsifier"
      ],
      "metadata": {
        "id": "YEtMfWAdcNpU"
      }
    },
    {
      "cell_type": "code",
      "source": [
        "svm1 = SGDClassifier(class_weight='balanced', n_jobs=-1, max_iter=300)\n",
        "svm1.fit(X_train, y_train)"
      ],
      "metadata": {
        "colab": {
          "base_uri": "https://localhost:8080/",
          "height": 75
        },
        "id": "KGYojJGrcX67",
        "outputId": "b55a8d6e-a56d-43f0-a905-dd397eec4e77"
      },
      "execution_count": 50,
      "outputs": [
        {
          "output_type": "execute_result",
          "data": {
            "text/plain": [
              "SGDClassifier(class_weight='balanced', max_iter=300, n_jobs=-1)"
            ],
            "text/html": [
              "<style>#sk-container-id-1 {color: black;background-color: white;}#sk-container-id-1 pre{padding: 0;}#sk-container-id-1 div.sk-toggleable {background-color: white;}#sk-container-id-1 label.sk-toggleable__label {cursor: pointer;display: block;width: 100%;margin-bottom: 0;padding: 0.3em;box-sizing: border-box;text-align: center;}#sk-container-id-1 label.sk-toggleable__label-arrow:before {content: \"▸\";float: left;margin-right: 0.25em;color: #696969;}#sk-container-id-1 label.sk-toggleable__label-arrow:hover:before {color: black;}#sk-container-id-1 div.sk-estimator:hover label.sk-toggleable__label-arrow:before {color: black;}#sk-container-id-1 div.sk-toggleable__content {max-height: 0;max-width: 0;overflow: hidden;text-align: left;background-color: #f0f8ff;}#sk-container-id-1 div.sk-toggleable__content pre {margin: 0.2em;color: black;border-radius: 0.25em;background-color: #f0f8ff;}#sk-container-id-1 input.sk-toggleable__control:checked~div.sk-toggleable__content {max-height: 200px;max-width: 100%;overflow: auto;}#sk-container-id-1 input.sk-toggleable__control:checked~label.sk-toggleable__label-arrow:before {content: \"▾\";}#sk-container-id-1 div.sk-estimator input.sk-toggleable__control:checked~label.sk-toggleable__label {background-color: #d4ebff;}#sk-container-id-1 div.sk-label input.sk-toggleable__control:checked~label.sk-toggleable__label {background-color: #d4ebff;}#sk-container-id-1 input.sk-hidden--visually {border: 0;clip: rect(1px 1px 1px 1px);clip: rect(1px, 1px, 1px, 1px);height: 1px;margin: -1px;overflow: hidden;padding: 0;position: absolute;width: 1px;}#sk-container-id-1 div.sk-estimator {font-family: monospace;background-color: #f0f8ff;border: 1px dotted black;border-radius: 0.25em;box-sizing: border-box;margin-bottom: 0.5em;}#sk-container-id-1 div.sk-estimator:hover {background-color: #d4ebff;}#sk-container-id-1 div.sk-parallel-item::after {content: \"\";width: 100%;border-bottom: 1px solid gray;flex-grow: 1;}#sk-container-id-1 div.sk-label:hover label.sk-toggleable__label {background-color: #d4ebff;}#sk-container-id-1 div.sk-serial::before {content: \"\";position: absolute;border-left: 1px solid gray;box-sizing: border-box;top: 0;bottom: 0;left: 50%;z-index: 0;}#sk-container-id-1 div.sk-serial {display: flex;flex-direction: column;align-items: center;background-color: white;padding-right: 0.2em;padding-left: 0.2em;position: relative;}#sk-container-id-1 div.sk-item {position: relative;z-index: 1;}#sk-container-id-1 div.sk-parallel {display: flex;align-items: stretch;justify-content: center;background-color: white;position: relative;}#sk-container-id-1 div.sk-item::before, #sk-container-id-1 div.sk-parallel-item::before {content: \"\";position: absolute;border-left: 1px solid gray;box-sizing: border-box;top: 0;bottom: 0;left: 50%;z-index: -1;}#sk-container-id-1 div.sk-parallel-item {display: flex;flex-direction: column;z-index: 1;position: relative;background-color: white;}#sk-container-id-1 div.sk-parallel-item:first-child::after {align-self: flex-end;width: 50%;}#sk-container-id-1 div.sk-parallel-item:last-child::after {align-self: flex-start;width: 50%;}#sk-container-id-1 div.sk-parallel-item:only-child::after {width: 0;}#sk-container-id-1 div.sk-dashed-wrapped {border: 1px dashed gray;margin: 0 0.4em 0.5em 0.4em;box-sizing: border-box;padding-bottom: 0.4em;background-color: white;}#sk-container-id-1 div.sk-label label {font-family: monospace;font-weight: bold;display: inline-block;line-height: 1.2em;}#sk-container-id-1 div.sk-label-container {text-align: center;}#sk-container-id-1 div.sk-container {/* jupyter's `normalize.less` sets `[hidden] { display: none; }` but bootstrap.min.css set `[hidden] { display: none !important; }` so we also need the `!important` here to be able to override the default hidden behavior on the sphinx rendered scikit-learn.org. See: https://github.com/scikit-learn/scikit-learn/issues/21755 */display: inline-block !important;position: relative;}#sk-container-id-1 div.sk-text-repr-fallback {display: none;}</style><div id=\"sk-container-id-1\" class=\"sk-top-container\"><div class=\"sk-text-repr-fallback\"><pre>SGDClassifier(class_weight=&#x27;balanced&#x27;, max_iter=300, n_jobs=-1)</pre><b>In a Jupyter environment, please rerun this cell to show the HTML representation or trust the notebook. <br />On GitHub, the HTML representation is unable to render, please try loading this page with nbviewer.org.</b></div><div class=\"sk-container\" hidden><div class=\"sk-item\"><div class=\"sk-estimator sk-toggleable\"><input class=\"sk-toggleable__control sk-hidden--visually\" id=\"sk-estimator-id-1\" type=\"checkbox\" checked><label for=\"sk-estimator-id-1\" class=\"sk-toggleable__label sk-toggleable__label-arrow\">SGDClassifier</label><div class=\"sk-toggleable__content\"><pre>SGDClassifier(class_weight=&#x27;balanced&#x27;, max_iter=300, n_jobs=-1)</pre></div></div></div></div></div>"
            ]
          },
          "metadata": {},
          "execution_count": 50
        }
      ]
    },
    {
      "cell_type": "code",
      "source": [
        "#SGD metric over traing\n",
        "pred_train_sgd=svm1.predict(X_train)\n",
        "print(\"Accuracy Train: {}\".format(accuracy_score(y_train,pred_train_sgd)))\n",
        "print(classification_report(y_train,pred_train_sgd))"
      ],
      "metadata": {
        "colab": {
          "base_uri": "https://localhost:8080/"
        },
        "id": "CUCj-CPAcqpG",
        "outputId": "231cee52-748a-47ea-9ef6-db2d7a7720e0"
      },
      "execution_count": 51,
      "outputs": [
        {
          "output_type": "stream",
          "name": "stdout",
          "text": [
            "Accuracy Train: 0.9764121663563005\n",
            "              precision    recall  f1-score   support\n",
            "\n",
            "       Happy       0.99      0.98      0.99     24578\n",
            "          Ok       0.77      0.87      0.81      1276\n",
            "     Unhappy       0.92      0.97      0.95      1533\n",
            "\n",
            "    accuracy                           0.98     27387\n",
            "   macro avg       0.89      0.94      0.92     27387\n",
            "weighted avg       0.98      0.98      0.98     27387\n",
            "\n"
          ]
        }
      ]
    },
    {
      "cell_type": "code",
      "source": [
        "#SGD metric over test\n",
        "pred_test_sgd=svm1.predict(X_test)\n",
        "print(\"Accuracy Test: {}\".format(accuracy_score(y_test,pred_test_sgd)))\n",
        "print(classification_report(y_test,pred_test_sgd))"
      ],
      "metadata": {
        "colab": {
          "base_uri": "https://localhost:8080/"
        },
        "id": "SVJ2cgnCc0vN",
        "outputId": "fa0bbf38-65b1-4075-a9f9-0aad92963f5c"
      },
      "execution_count": 52,
      "outputs": [
        {
          "output_type": "stream",
          "name": "stdout",
          "text": [
            "Accuracy Test: 0.9263077185210428\n",
            "              precision    recall  f1-score   support\n",
            "\n",
            "       Happy       0.96      0.97      0.96     10486\n",
            "          Ok       0.43      0.38      0.40       570\n",
            "     Unhappy       0.78      0.71      0.74       682\n",
            "\n",
            "    accuracy                           0.93     11738\n",
            "   macro avg       0.72      0.69      0.70     11738\n",
            "weighted avg       0.92      0.93      0.92     11738\n",
            "\n"
          ]
        }
      ]
    },
    {
      "cell_type": "code",
      "source": [
        "skplt.metrics.plot_confusion_matrix(y_test, pred_test_sgd, normalize=True)\n",
        "plt.show()"
      ],
      "metadata": {
        "colab": {
          "base_uri": "https://localhost:8080/",
          "height": 472
        },
        "id": "-r6QmSk1c8J4",
        "outputId": "28e88cf7-8c65-4508-ed84-2f866440ed95"
      },
      "execution_count": 57,
      "outputs": [
        {
          "output_type": "display_data",
          "data": {
            "text/plain": [
              "<Figure size 640x480 with 2 Axes>"
            ],
            "image/png": "[encoded data removed]"
          },
          "metadata": {}
        }
      ]
    }
  ]
}